{
 "cells": [
  {
   "cell_type": "code",
   "execution_count": 1,
   "id": "3db1d225-9433-4ccc-8673-5798b8e27978",
   "metadata": {
    "scrolled": true
   },
   "outputs": [],
   "source": [
    "from PIL import Image\n",
    "import numpy as np\n",
    "import pandas as pd\n",
    "import joblib\n",
    "import matplotlib.pyplot as plt\n",
    "import cv2"
   ]
  },
  {
   "cell_type": "markdown",
   "id": "9a978cdf-6400-48b6-a021-5eb3c4456de6",
   "metadata": {},
   "source": [
    "#### Loading user provided image"
   ]
  },
  {
   "cell_type": "code",
   "execution_count": 236,
   "id": "8bf2ad07-90fa-47fa-b2c8-3f731573b722",
   "metadata": {},
   "outputs": [
    {
     "name": "stdin",
     "output_type": "stream",
     "text": [
      "Past the complete of the image:  C:\\Users\\student\\Desktop\\week5\\digit_2.png\n"
     ]
    },
    {
     "data": {
      "text/plain": [
       "'C:\\\\Users\\\\student\\\\Desktop\\\\week5\\\\digit_2.png'"
      ]
     },
     "execution_count": 236,
     "metadata": {},
     "output_type": "execute_result"
    }
   ],
   "source": [
    "path = input(\"Past the complete of the image: \")\n",
    "path.replace(\"\\\\\",\"\\\\\")\n",
    "img = Image.open(path).convert(\"L\").resize((28,28))\n",
    "pixels = np.array(img)"
   ]
  },
  {
   "cell_type": "markdown",
   "id": "6a49c863-f466-44f8-ac20-c7973eb6bc77",
   "metadata": {},
   "source": [
    "#### Invert if background is light"
   ]
  },
  {
   "cell_type": "code",
   "execution_count": null,
   "id": "3238be1c-e8c9-45b5-a569-2c4e95c1d90d",
   "metadata": {},
   "outputs": [],
   "source": [
    "if pixels.mean() > 127:\n",
    "    pixels = 255 - pixels"
   ]
  },
  {
   "cell_type": "markdown",
   "id": "d999b216-f17b-4692-820e-3fcea24a3f0e",
   "metadata": {},
   "source": [
    "#### Enhancing the image"
   ]
  },
  {
   "cell_type": "code",
   "execution_count": null,
   "id": "400fc41d-5933-4489-a7cf-5096256ce7a1",
   "metadata": {},
   "outputs": [],
   "source": [
    "for i,px in enumerate(pixels.reshape((1,784))[0]):\n",
    "    if px > 120:\n",
    "        pixels.reshape((1,784))[0][i]= 255\n",
    "    else:\n",
    "        pixels.reshape((1,784))[0][i]= 0"
   ]
  },
  {
   "cell_type": "markdown",
   "id": "91571f50-6157-4932-949a-79c4c147e135",
   "metadata": {},
   "source": [
    "#### Extract bounding box of digit"
   ]
  },
  {
   "cell_type": "code",
   "execution_count": null,
   "id": "e3ce9ffc-e2b8-439e-94cc-b44cbdf3d5d0",
   "metadata": {},
   "outputs": [],
   "source": [
    "coords = cv2.findNonZero(pixels)\n",
    "x,y,w,h = cv2.boundingRect(coords)\n",
    "digit = pixels[y:y+h,x:x+w]\n",
    "resized_digit = cv2.resize(digit,(20,20))"
   ]
  },
  {
   "cell_type": "markdown",
   "id": "85b64ff3-e092-45ac-8a98-5db1d1953cea",
   "metadata": {},
   "source": [
    "#### Placing the digit in the center"
   ]
  },
  {
   "cell_type": "code",
   "execution_count": null,
   "id": "ff75e98e-3077-423c-ae6d-b81278bf6181",
   "metadata": {},
   "outputs": [],
   "source": [
    "canvas = np.zeros((28,28), dtype = np.uint8)\n",
    "canvas[4:24,4:24] = resized_digit"
   ]
  },
  {
   "cell_type": "markdown",
   "id": "42ed711b-e2a5-4353-a6da-e06b4e18e624",
   "metadata": {},
   "source": [
    "#### Coversion of image into a DataFrame"
   ]
  },
  {
   "cell_type": "code",
   "execution_count": null,
   "id": "a4b7c281-de0e-46f5-8703-d04d59747e75",
   "metadata": {},
   "outputs": [],
   "source": [
    "X = pd.DataFrame(canvas.reshape((1,784)), columns = [f\"p{i+1}\" for i in range(784)], index= range(1))"
   ]
  },
  {
   "cell_type": "markdown",
   "id": "1b171fa0-411f-485b-b72e-400650e4799e",
   "metadata": {},
   "source": [
    "#### Load model and scaler"
   ]
  },
  {
   "cell_type": "code",
   "execution_count": null,
   "id": "8bafae32-ecfd-4132-95b9-4bda728cd06a",
   "metadata": {},
   "outputs": [],
   "source": [
    "with open(\"C:\\\\Users\\\\student\\\\Desktop\\\\week5\\\\scaler.pkl\", 'rb') as sc:\n",
    "    scaler = joblib.load(sc)\n",
    "with open(\"C:\\\\Users\\\\student\\\\Desktop\\\\week5\\\\model.pkl\", 'rb') as md:\n",
    "    model = joblib.load(md)"
   ]
  },
  {
   "cell_type": "markdown",
   "id": "b29236bf-146a-453b-8730-80552b23f063",
   "metadata": {},
   "source": [
    "#### Scalling"
   ]
  },
  {
   "cell_type": "code",
   "execution_count": 245,
   "id": "3d831788-4479-4f1d-9f08-e541fb6d8595",
   "metadata": {},
   "outputs": [],
   "source": [
    "X_scaled = scaler.transform(X)"
   ]
  },
  {
   "cell_type": "markdown",
   "id": "efd60723-c0cc-4642-9ee5-41050e3e793f",
   "metadata": {},
   "source": [
    "#### Prediction"
   ]
  },
  {
   "cell_type": "code",
   "execution_count": 247,
   "id": "68d4d50e-db83-42de-9fdc-e64b192928ad",
   "metadata": {},
   "outputs": [],
   "source": [
    "Y = model.predict(X_scaled)\n",
    "print(f\"The digit is: {Y[0]}\")"
   ]
  },
  {
   "cell_type": "markdown",
   "id": "1d26a996-de49-4618-9315-3c5768274c9e",
   "metadata": {},
   "source": [
    "#### Plot the Image"
   ]
  },
  {
   "cell_type": "code",
   "execution_count": 252,
   "id": "fe2e6794-6ab4-4f73-afdf-9a47b5035ab6",
   "metadata": {},
   "outputs": [
    {
     "data": {
      "image/png": "[encoded data removed]",
      "text/plain": [
       "<Figure size 640x480 with 1 Axes>"
      ]
     },
     "metadata": {},
     "output_type": "display_data"
    }
   ],
   "source": [
    "plt.imshow(pixels.reshape(28,28), cmap=\"gray\")\n",
    "plt.show()"
   ]
  },
  {
   "cell_type": "code",
   "execution_count": null,
   "id": "6bca09e4-44cc-45fd-b57d-4cadcfaf7e9e",
   "metadata": {},
   "outputs": [],
   "source": []
  }
 ],
 "metadata": {
  "kernelspec": {
   "display_name": "Python 3 (ipykernel)",
   "language": "python",
   "name": "python3"
  },
  "language_info": {
   "codemirror_mode": {
    "name": "ipython",
    "version": 3
   },
   "file_extension": ".py",
   "mimetype": "text/x-python",
   "name": "python",
   "nbconvert_exporter": "python",
   "pygments_lexer": "ipython3",
   "version": "3.12.7"
  }
 },
 "nbformat": 4,
 "nbformat_minor": 5
}
